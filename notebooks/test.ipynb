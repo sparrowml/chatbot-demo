{
 "cells": [
  {
   "cell_type": "code",
   "execution_count": 1,
   "id": "69429566-3dcf-4637-a273-ba30c2924413",
   "metadata": {},
   "outputs": [],
   "source": [
    "from chatbot_demo import configure_agent"
   ]
  },
  {
   "cell_type": "code",
   "execution_count": 2,
   "id": "52a768e9-643c-4cf3-b00d-c61956df6c57",
   "metadata": {},
   "outputs": [],
   "source": [
    "agent = configure_agent()"
   ]
  },
  {
   "cell_type": "code",
   "execution_count": 4,
   "id": "e77481e0-ac6e-4853-a8ad-4aa705916d0e",
   "metadata": {},
   "outputs": [
    {
     "data": {
      "text/plain": [
       "{'input': 'Hello world', 'output': 'Hello! How can I assist you today?'}"
      ]
     },
     "execution_count": 4,
     "metadata": {},
     "output_type": "execute_result"
    }
   ],
   "source": [
    "agent.invoke({\"input\": \"Hello world\"})"
   ]
  },
  {
   "cell_type": "code",
   "execution_count": null,
   "id": "afb13a75-cb53-44cd-88ae-298cc5fdbb70",
   "metadata": {},
   "outputs": [],
   "source": []
  }
 ],
 "metadata": {
  "kernelspec": {
   "display_name": "Python 3 (ipykernel)",
   "language": "python",
   "name": "python3"
  },
  "language_info": {
   "codemirror_mode": {
    "name": "ipython",
    "version": 3
   },
   "file_extension": ".py",
   "mimetype": "text/x-python",
   "name": "python",
   "nbconvert_exporter": "python",
   "pygments_lexer": "ipython3",
   "version": "3.12.4"
  }
 },
 "nbformat": 4,
 "nbformat_minor": 5
}
